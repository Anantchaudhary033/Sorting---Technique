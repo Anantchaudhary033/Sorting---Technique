{
 "cells": [
  {
   "cell_type": "markdown",
   "id": "4db68c7d",
   "metadata": {},
   "source": [
    "# Bubble sort"
   ]
  },
  {
   "cell_type": "code",
   "execution_count": 1,
   "id": "65674345",
   "metadata": {},
   "outputs": [
    {
     "name": "stdout",
     "output_type": "stream",
     "text": [
      "Sorted array: [11, 12, 22, 25, 34, 64, 90]\n"
     ]
    }
   ],
   "source": [
    "def bubble_sort(arr):\n",
    "    n = len(arr)\n",
    "\n",
    "    for i in range(n):\n",
    "        # Last i elements are already sorted, so we don't need to check them\n",
    "        for j in range(0, n-i-1):\n",
    "            # Swap if the element found is greater than the next element\n",
    "            if arr[j] > arr[j+1]:\n",
    "                arr[j], arr[j+1] = arr[j+1], arr[j]\n",
    "\n",
    "# Example usage:\n",
    "my_list = [64, 34, 25, 12, 22, 11, 90]\n",
    "bubble_sort(my_list)\n",
    "\n",
    "print(\"Sorted array:\", my_list)"
   ]
  },
  {
   "cell_type": "markdown",
   "id": "2b2652cc",
   "metadata": {},
   "source": [
    "# selection sort"
   ]
  },
  {
   "cell_type": "code",
   "execution_count": 5,
   "id": "30395df1",
   "metadata": {},
   "outputs": [],
   "source": [
    "import array \n",
    "from array import*"
   ]
  },
  {
   "cell_type": "code",
   "execution_count": 4,
   "id": "8bee16e6",
   "metadata": {},
   "outputs": [
    {
     "name": "stdout",
     "output_type": "stream",
     "text": [
      "array('i', [1, 2, 3, 4, 5, 6])\n"
     ]
    }
   ],
   "source": [
    "def selection_sort(array):\n",
    "    n=len(arr)\n",
    "    for i in range(0,n-1):\n",
    "        min_value=i\n",
    "        for j in range(i+1,n):\n",
    "            if arr[min_value]>arr[j]:\n",
    "                min_value=j\n",
    "        arr[i],arr[min_value]=arr[min_value],arr[i]       \n",
    "arr=array('i',[2,6,5,1,3,4])\n",
    "selection_sort(arr)\n",
    "print(arr)"
   ]
  },
  {
   "cell_type": "code",
   "execution_count": null,
   "id": "bfc94f44",
   "metadata": {},
   "outputs": [],
   "source": []
  }
 ],
 "metadata": {
  "kernelspec": {
   "display_name": "Python 3 (ipykernel)",
   "language": "python",
   "name": "python3"
  },
  "language_info": {
   "codemirror_mode": {
    "name": "ipython",
    "version": 3
   },
   "file_extension": ".py",
   "mimetype": "text/x-python",
   "name": "python",
   "nbconvert_exporter": "python",
   "pygments_lexer": "ipython3",
   "version": "3.11.5"
  }
 },
 "nbformat": 4,
 "nbformat_minor": 5
}
